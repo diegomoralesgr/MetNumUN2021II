{
  "nbformat": 4,
  "nbformat_minor": 0,
  "metadata": {
    "colab": {
      "name": "dimorales_QuanconnectTutotials.ipynb",
      "provenance": [],
      "authorship_tag": "ABX9TyOxwHPH1kkPg6dxTwlv8MO/",
      "include_colab_link": true
    },
    "kernelspec": {
      "name": "python3",
      "display_name": "Python 3"
    },
    "language_info": {
      "name": "python"
    }
  },
  "cells": [
    {
      "cell_type": "markdown",
      "metadata": {
        "id": "view-in-github",
        "colab_type": "text"
      },
      "source": [
        "<a href=\"https://colab.research.google.com/github/diegomoralesgr/MetNumUN2021II/blob/main/dimorales_QuanconnectTutotials.ipynb\" target=\"_parent\"><img src=\"https://colab.research.google.com/assets/colab-badge.svg\" alt=\"Open In Colab\"/></a>"
      ]
    },
    {
      "cell_type": "markdown",
      "metadata": {
        "id": "ZEo5uyGKE3Tk"
      },
      "source": [
        "# 1. Data Types and Data Structures \n"
      ]
    },
    {
      "cell_type": "code",
      "metadata": {
        "id": "O8FQYRQq8iF0",
        "colab": {
          "base_uri": "https://localhost:8080/"
        },
        "outputId": "b26e922a-227b-42a1-e880-03eef3f51866"
      },
      "source": [
        "my_string1 = 'Welcome to'\n",
        "my_string2 = \"QuantConnect\"\n",
        "my_string3 = \"'Diego Esteban Morales'\"\n",
        "print(my_string1 + ' ' + my_string2+ ' '+my_string3)"
      ],
      "execution_count": null,
      "outputs": [
        {
          "output_type": "execute_result",
          "data": {
            "text/plain": [
              "3"
            ]
          },
          "metadata": {},
          "execution_count": 1
        }
      ]
    }
  ]
}