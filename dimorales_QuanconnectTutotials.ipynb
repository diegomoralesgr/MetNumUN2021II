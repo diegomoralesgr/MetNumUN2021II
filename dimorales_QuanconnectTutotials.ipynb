{
  "nbformat": 4,
  "nbformat_minor": 0,
  "metadata": {
    "colab": {
      "name": "dimorales_QuanconnectTutotials.ipynb",
      "provenance": [],
      "collapsed_sections": [],
      "authorship_tag": "ABX9TyN7BEVbUBgNi2hvyCRAqU+E",
      "include_colab_link": true
    },
    "kernelspec": {
      "name": "python3",
      "display_name": "Python 3"
    },
    "language_info": {
      "name": "python"
    }
  },
  "cells": [
    {
      "cell_type": "markdown",
      "metadata": {
        "id": "view-in-github",
        "colab_type": "text"
      },
      "source": [
        "<a href=\"https://colab.research.google.com/github/diegomoralesgr/MetNumUN2021II/blob/main/dimorales_QuanconnectTutotials.ipynb\" target=\"_parent\"><img src=\"https://colab.research.google.com/assets/colab-badge.svg\" alt=\"Open In Colab\"/></a>"
      ]
    },
    {
      "cell_type": "markdown",
      "metadata": {
        "id": "ZEo5uyGKE3Tk"
      },
      "source": [
        "# 1. Data Types and Data Structures \n"
      ]
    },
    {
      "cell_type": "code",
      "metadata": {
        "id": "O8FQYRQq8iF0"
      },
      "source": [
        "my_string1 = 'Welcome to'\n",
        "my_string2 = \"QuantConnect\"\n",
        "my_string3 = \"'Diego Esteban Morales'\"\n",
        "print(my_string1 + ' ' + my_string2+ ' '+my_string3)"
      ],
      "execution_count": null,
      "outputs": []
    },
    {
      "cell_type": "code",
      "metadata": {
        "id": "QA79axLFFSeg"
      },
      "source": [
        "my_int = 2**100000\n",
        "print(my_int)\n",
        "print(type(my_int))"
      ],
      "execution_count": null,
      "outputs": []
    },
    {
      "cell_type": "code",
      "metadata": {
        "id": "D8-0f7rDFdBh"
      },
      "source": [
        "my_string = \"2415f\"\n",
        "print(type(my_string))\n",
        "my_int = int(my_string,16)\n",
        "print(type(my_int))\n",
        "print(my_int)"
      ],
      "execution_count": null,
      "outputs": []
    },
    {
      "cell_type": "code",
      "metadata": {
        "id": "fS1qe6qnFd1P"
      },
      "source": [
        "my_string = \"300\"\n",
        "my_float = float(my_string)\n",
        "print(type(my_float))"
      ],
      "execution_count": null,
      "outputs": []
    },
    {
      "cell_type": "code",
      "metadata": {
        "id": "UbpFUsc5FgqF"
      },
      "source": [
        "my_bool = True\n",
        "print(my_bool)\n",
        "print(type(my_bool))"
      ],
      "execution_count": null,
      "outputs": []
    },
    {
      "cell_type": "code",
      "metadata": {
        "id": "dcdJRegAFw5A"
      },
      "source": [
        "print(\"Addition \", 3+5)\n",
        "print(\"Subtraction \", 7-2)\n",
        "print(\"Multiplication \", 2*5)\n",
        "print(\"Division \", 7/3)\n",
        "print('exponent', 2**6)"
      ],
      "execution_count": null,
      "outputs": []
    },
    {
      "cell_type": "code",
      "metadata": {
        "id": "MzGKniVAF1fB"
      },
      "source": [
        "print(5/7)\n",
        "print(5.0/7)"
      ],
      "execution_count": null,
      "outputs": []
    },
    {
      "cell_type": "code",
      "metadata": {
        "id": "lddcquBzGFKT"
      },
      "source": [
        "my_list = [1,2,3,'Quant', 'Connect']\n",
        "print(my_list)"
      ],
      "execution_count": null,
      "outputs": []
    },
    {
      "cell_type": "code",
      "metadata": {
        "id": "CdupOGQIGP3_"
      },
      "source": [
        "my_list = [1,2,3,4,5,'Quant', 'Connect']\n",
        "print(len(my_list))\n",
        "print(my_list[0])\n",
        "print(my_list[len(my_list) -1])"
      ],
      "execution_count": null,
      "outputs": []
    },
    {
      "cell_type": "code",
      "metadata": {
        "id": "XLPKGyKXGh8E"
      },
      "source": [
        "my_list = [1,2,3,4,5,'Quant', 'Connect']\n",
        "my_list[3] = 'start'\n",
        "print(my_list)"
      ],
      "execution_count": null,
      "outputs": []
    },
    {
      "cell_type": "code",
      "metadata": {
        "id": "FFCiV-OTGuMg"
      },
      "source": [
        "my_list = [1,2,3,4,5,'Quant', 'Connect']\n",
        "print(my_list[1:5])"
      ],
      "execution_count": null,
      "outputs": []
    },
    {
      "cell_type": "code",
      "metadata": {
        "id": "0XSbTgSAHUmF"
      },
      "source": [
        "print(my_list[4:])"
      ],
      "execution_count": null,
      "outputs": []
    },
    {
      "cell_type": "code",
      "metadata": {
        "id": "6bgD5xPCHZMQ"
      },
      "source": [
        "print(my_list[:5])"
      ],
      "execution_count": null,
      "outputs": []
    },
    {
      "cell_type": "code",
      "metadata": {
        "id": "OuCUqEepHfJg"
      },
      "source": [
        "my_list = ['Hello', 'world', 'Hello']\n",
        "my_list.append('world')\n",
        "print(my_list)"
      ],
      "execution_count": null,
      "outputs": []
    },
    {
      "cell_type": "code",
      "metadata": {
        "id": "bixBZQjGHmVg"
      },
      "source": [
        "my_list.remove('world')\n",
        "print(my_list)"
      ],
      "execution_count": null,
      "outputs": []
    },
    {
      "cell_type": "code",
      "metadata": {
        "id": "qLqSwLufH7t_"
      },
      "source": [
        "my_tuple = ('Welcome','to','hello world')"
      ],
      "execution_count": null,
      "outputs": []
    },
    {
      "cell_type": "code",
      "metadata": {
        "id": "xUhZC_G2H8xg"
      },
      "source": [
        "my_tuple = ('Welcome','to','hello world')\n",
        "print(my_tuple[2:])"
      ],
      "execution_count": null,
      "outputs": []
    },
    {
      "cell_type": "code",
      "metadata": {
        "id": "Xtps4UnVISVj"
      },
      "source": [
        "stock_list = ['AAPL','GOOG','IBM','AAPL','IBM','FB','F','GOOG',\"F\",'INSTA']\n",
        "stock_set = set(stock_list)\n",
        "print(stock_set)"
      ],
      "execution_count": null,
      "outputs": []
    },
    {
      "cell_type": "code",
      "metadata": {
        "id": "gQE2ATqOJVPf"
      },
      "source": [
        "my_dic = {'AAPL':'AAPLE', 'FB':'FaceBook', 'GOOG':'Alphabet','HELLO':'WORLD'}"
      ],
      "execution_count": null,
      "outputs": []
    },
    {
      "cell_type": "code",
      "metadata": {
        "id": "1Wj49mZYJbhV"
      },
      "source": [
        "print(my_dic['HELLO'])"
      ],
      "execution_count": null,
      "outputs": []
    },
    {
      "cell_type": "code",
      "metadata": {
        "id": "FMHLWwysJ2CX"
      },
      "source": [
        "my_dic['HELLO'] = 'Hello World'\n",
        "print(my_dic['HELLO'])"
      ],
      "execution_count": null,
      "outputs": []
    },
    {
      "cell_type": "code",
      "metadata": {
        "id": "czipGKRNKsUi"
      },
      "source": [
        "print(my_dic.keys())"
      ],
      "execution_count": null,
      "outputs": []
    },
    {
      "cell_type": "code",
      "metadata": {
        "id": "rMg9JE7QK8tH"
      },
      "source": [
        "my_str = 'Welcome to QuantConnect'\n",
        "print(my_str[3:15])"
      ],
      "execution_count": null,
      "outputs": []
    },
    {
      "cell_type": "code",
      "metadata": {
        "id": "BUzEVL_uLOio"
      },
      "source": [
        "print('Counting the number of e appears in this sentence'.count('a'))\n",
        "print('The first time e appears in this sentence'.find('a'))\n",
        "print('all the a in this sentence now becomes e'.replace('a','i'))"
      ],
      "execution_count": null,
      "outputs": []
    },
    {
      "cell_type": "code",
      "metadata": {
        "id": "xGSDtPvxM8jc"
      },
      "source": [
        "Time = '2021-10-19 10:38:51'\n",
        "splited_list = Time.split(' ')\n",
        "date = splited_list[0]\n",
        "time = splited_list[1]\n",
        "print(date)\n",
        "print(date, time)\n",
        "hour = time.split(':')[0]\n",
        "minute=time.split(':')[1]\n",
        "second=time.split(':')[2]\n",
        "print(hour)\n",
        "print(minute)\n",
        "print(second)"
      ],
      "execution_count": null,
      "outputs": []
    },
    {
      "cell_type": "code",
      "metadata": {
        "id": "Xb5wMX0fOEtI"
      },
      "source": [
        "my_time = 'Hour:{}, Minute:{}, Second:{}'.format('10','58','40')\n",
        "print(my_time)"
      ],
      "execution_count": null,
      "outputs": []
    },
    {
      "cell_type": "code",
      "metadata": {
        "id": "0j4PlIb5OgG8"
      },
      "source": [
        "print('the pi number is %f'%3.14)\n",
        "print('%s to %s'%('hello','world'))"
      ],
      "execution_count": null,
      "outputs": []
    },
    {
      "cell_type": "markdown",
      "metadata": {
        "id": "J1gekStmPhop"
      },
      "source": [
        "#2. Logical Operations and Loops"
      ]
    },
    {
      "cell_type": "code",
      "metadata": {
        "id": "Mb-yIhHUPe-f"
      },
      "source": [
        "print(3 == 5)\n",
        "print(True == True)\n",
        "print('hello' != 'world')\n",
        "print(2**100000 >= 2**99999)\n",
        "print(3.1416 >= 10/3)"
      ],
      "execution_count": null,
      "outputs": []
    },
    {
      "cell_type": "code",
      "metadata": {
        "id": "6DvKmLJeQeZI"
      },
      "source": [
        "print(10 > 5 and 7 > 5)\n",
        "print(10 > 5 and 7 < 5) \n",
        "print(10 > 5 or 7 < 5)\n",
        "print(10 < 5 and 7 < 5)"
      ],
      "execution_count": null,
      "outputs": []
    },
    {
      "cell_type": "code",
      "metadata": {
        "id": "njf6XvBSRFtE"
      },
      "source": [
        "print((10 > 5 or 7 < 5) and (10!=7 and 6>5) and not ( 7 < 5 or 6 < 10 and (10!=5 and 6>3)))\n",
        "print(10 > 5 or 7 < 5 and (10!=7 and 6>5) and not ( 7 < 5 or 6 < 10 and (10!=5 and 6>3)))"
      ],
      "execution_count": null,
      "outputs": []
    },
    {
      "cell_type": "code",
      "metadata": {
        "id": "pCqq4c6_R01v"
      },
      "source": [
        "i = 100\n",
        "if i == 100:\n",
        "    print('i==100 is True')"
      ],
      "execution_count": null,
      "outputs": []
    },
    {
      "cell_type": "code",
      "metadata": {
        "id": "NVwqeDydSU9P"
      },
      "source": [
        "p = 10 > 15\n",
        "q = 7 > 20\n",
        "if p and q:\n",
        "    print('p and q is true')\n",
        "elif p and not q:\n",
        "    print('q is false')\n",
        "elif q and not p:\n",
        "    print('p is false')\n",
        "else:\n",
        "    print('None of p and q is true')"
      ],
      "execution_count": null,
      "outputs": []
    },
    {
      "cell_type": "code",
      "metadata": {
        "id": "9I9qTAunShX_"
      },
      "source": [
        "i = 0\n",
        "while i < 2**13:\n",
        "    print(i)\n",
        "    i += 100"
      ],
      "execution_count": null,
      "outputs": []
    },
    {
      "cell_type": "code",
      "metadata": {
        "id": "xvDju2-zTL7d"
      },
      "source": [
        "for i in [1,'hello',3,'Quan',5]:\n",
        "    print(i)"
      ],
      "execution_count": null,
      "outputs": []
    },
    {
      "cell_type": "code",
      "metadata": {
        "id": "74B4wU2NTUyp"
      },
      "source": [
        "stocks = ['AAPL','GOOG','IBM','AAPL','IBM','FB','F','GOOG',\"F\",'INSTA']\n",
        "selected = ['AAPL','IBM']\n",
        "new_list = []\n",
        "for i in stocks:\n",
        "    if i not in selected:\n",
        "        new_list.append(i)\n",
        "print(stocks)\n",
        "print(new_list)"
      ],
      "execution_count": null,
      "outputs": []
    },
    {
      "cell_type": "code",
      "metadata": {
        "id": "mNcxbfhDT_Xx"
      },
      "source": [
        "stocks = ['AAPL','GOOG','IBM','AAPL','IBM','FB','F','GOOG',\"F\",'INSTA']\n",
        "for i in stocks:\n",
        "    print(i)\n",
        "    if i == 'IBM':\n",
        "        break"
      ],
      "execution_count": null,
      "outputs": []
    },
    {
      "cell_type": "code",
      "metadata": {
        "id": "fKTOAYOEUhoj"
      },
      "source": [
        "stocks = ['AAPL','GOOG','IBM','AAPL','IBM','FB','F','GOOG',\"F\",'INSTA']\n",
        "for i in stocks:\n",
        "    if i == 'IBM':\n",
        "        continue\n",
        "    print(i)"
      ],
      "execution_count": null,
      "outputs": []
    },
    {
      "cell_type": "code",
      "metadata": {
        "id": "UVae0UslUv53"
      },
      "source": [
        "squares = []\n",
        "for i in [2,4,8,16,2**100]:\n",
        "    squares.append(i**2)\n",
        "print(squares)"
      ],
      "execution_count": null,
      "outputs": []
    },
    {
      "cell_type": "code",
      "metadata": {
        "id": "7o8yLs36U6i3"
      },
      "source": [
        "list = [2,4,8,16,2**100]\n",
        "squares = [x**2 for x in list]\n",
        "print(squares)"
      ],
      "execution_count": null,
      "outputs": []
    },
    {
      "cell_type": "code",
      "metadata": {
        "id": "e6sYrBLfVG7b"
      },
      "source": [
        "stocks = ['AAPL','GOOG','IBM','AAPL','IBM','FB','F','GOOG',\"F\",'INSTA']\n",
        "selected = ['AAPL','IBM']\n",
        "new_list = [x for x in stocks if x in selected]\n",
        "print(new_list)"
      ],
      "execution_count": null,
      "outputs": []
    },
    {
      "cell_type": "code",
      "metadata": {
        "id": "6ts5mpPNVfvV"
      },
      "source": [
        "print([(x, y) for x in [1,4,5,6] for y in [5,1,4,2,6,'Connect'] if x != y])\n",
        "print([str(x)+' vs '+str(y) for x in ['AAPL','GOOG','IBM','FB'] for y in ['INS','TI','CA',7] if x!=y])"
      ],
      "execution_count": null,
      "outputs": []
    },
    {
      "cell_type": "markdown",
      "metadata": {
        "id": "WqDryp13WLKm"
      },
      "source": [
        "#3. Functions and Objective-Oriented Programming"
      ]
    },
    {
      "cell_type": "code",
      "metadata": {
        "id": "9oo5jVjKWPT1"
      },
      "source": [
        "def product(x,y):\n",
        "    return x*y\n",
        "print(product(100,3))\n",
        "print(product(15,10))"
      ],
      "execution_count": null,
      "outputs": []
    },
    {
      "cell_type": "code",
      "metadata": {
        "id": "oG25MBhLWwD_"
      },
      "source": [
        "def say_hi():\n",
        "    print('Hello world to MN')\n",
        "say_hi()"
      ],
      "execution_count": null,
      "outputs": []
    },
    {
      "cell_type": "code",
      "metadata": {
        "id": "eOzu4Z9UW6JM"
      },
      "source": [
        "print(range(20))\n",
        "print(range(10,11))\n",
        "print(range(5,7,6))"
      ],
      "execution_count": null,
      "outputs": []
    },
    {
      "cell_type": "code",
      "metadata": {
        "id": "uqHLX9d6XOXc"
      },
      "source": [
        "tickers = ['AAPL','GOOG','IBM','AAPL','IBM','FB','F','GOOG',\"F\",'INST']\n",
        "print('The length of tickers is {}'.format(len(tickers)))\n",
        "for i in range(len(tickers)):\n",
        "    print(tickers[i])"
      ],
      "execution_count": null,
      "outputs": []
    },
    {
      "cell_type": "code",
      "metadata": {
        "id": "Tx_gCtlBXbUm"
      },
      "source": [
        "print(list)\n",
        "del list\n",
        "list"
      ],
      "execution_count": null,
      "outputs": []
    },
    {
      "cell_type": "code",
      "metadata": {
        "id": "VQk0todxX5Qq"
      },
      "source": [
        "tickers = ['AAPL','GOOG','IBM','AAPL','IBM','FB','F','GOOG',\"F\",'INST']\n",
        "list(map(len,tickers))"
      ],
      "execution_count": null,
      "outputs": []
    },
    {
      "cell_type": "code",
      "metadata": {
        "id": "ocgHv66zX6H5"
      },
      "source": [
        "tickers = ['AAPL','GOOG','IBM','AAPL','IBM','FB','F','GOOG',\"F\",'INST']\n",
        "print(list(map(len,tickers)))"
      ],
      "execution_count": null,
      "outputs": []
    },
    {
      "cell_type": "code",
      "metadata": {
        "id": "p9FfGy-ZX83Y"
      },
      "source": [
        "list(map(lambda x: x**2, range(13)))"
      ],
      "execution_count": null,
      "outputs": []
    },
    {
      "cell_type": "code",
      "metadata": {
        "id": "_QfSxvz_Z7ps"
      },
      "source": [
        ""
      ],
      "execution_count": null,
      "outputs": []
    }
  ]
}